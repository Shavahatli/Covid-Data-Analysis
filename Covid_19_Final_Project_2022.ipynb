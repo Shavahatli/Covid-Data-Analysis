{
 "cells": [
  {
   "cell_type": "markdown",
   "id": "81d29a8c",
   "metadata": {},
   "source": [
    "Covid Data Analysis"
   ]
  },
  {
   "cell_type": "code",
   "execution_count": null,
   "id": "4675320b",
   "metadata": {},
   "outputs": [],
   "source": [
    "# Importing necessary libraries \n",
    "import pandas as pd\n",
    "from matplotlib import pyplot as plt\n",
    "import numpy as np"
   ]
  },
  {
   "cell_type": "code",
   "execution_count": 2,
   "id": "78d831d0",
   "metadata": {},
   "outputs": [],
   "source": [
    "# Setting range of years, months and days to be iterated through in the URL later\n",
    "days = [str(i).zfill(2) for i in range(1,32)]\n",
    "months = [str(j).zfill(2) for j in range(1,13)]\n",
    "years = [str(k) for k in range (2020,2023)]"
   ]
  },
  {
   "cell_type": "code",
   "execution_count": 3,
   "id": "c9403a08",
   "metadata": {},
   "outputs": [],
   "source": [
    "# Creating the dates list \n",
    "dates = []\n",
    "for year in years:\n",
    "    for month in months:\n",
    "        for day in days:\n",
    "            date = month + '-' + day + '-' + year\n",
    "            dates.append(date)"
   ]
  },
  {
   "cell_type": "code",
   "execution_count": 4,
   "id": "2f1744e8",
   "metadata": {},
   "outputs": [],
   "source": [
    "# Creating the urls list \n",
    "urls = []\n",
    "for date in dates:\n",
    "    url_covid = 'https://raw.githubusercontent.com/CSSEGISandData/COVID-19/master/csse_covid_19_data/csse_covid_19_daily_reports_us/' + date + '.csv'\n",
    "    urls.append(url_covid)\n"
   ]
  },
  {
   "cell_type": "code",
   "execution_count": 5,
   "id": "4d66a4f4",
   "metadata": {},
   "outputs": [],
   "source": [
    "# Creating the results dictinionary \n",
    "import urllib.error\n",
    "results={}\n",
    "for url in urls:\n",
    "    try:\n",
    "        result = pd.read_csv(url)\n",
    "    except urllib.error.HTTPError:\n",
    "        continue\n",
    "        \n",
    "    _date = url.split('/')[-1].split('.')[0]\n",
    "    results[_date]=result"
   ]
  },
  {
   "cell_type": "code",
   "execution_count": 6,
   "id": "24975ec5",
   "metadata": {},
   "outputs": [],
   "source": [
    "# Creating the dictionary based on Census Bureau-designated regions and divisions\n",
    "us = {'New England':['Connecticut', 'Maine', 'Massachusetts', 'New Hampshire', 'Rhode Island', 'Vermont'], 'Mid_Atlantic':['New Jersey', 'New York', 'Pennsylvania'], 'East North Central':['Illinois', 'Indiana', 'Michigan', 'Ohio', 'Wisconsin'], 'West North Central':['Iowa', 'Kansas', 'Minnesota', 'Missouri', 'Nebraska', 'North Dakota', 'South Dakota'], 'South Atlantic':['Delaware', 'Florida', 'Georgia', 'Maryland', 'North Carolina', 'South Carolina', 'Virginia', 'District of Columbia', 'West Virginia'], 'East South Central':['Alabama', 'Kentucky', 'Mississippi', 'Tennessee'], 'West South Central':['Arkansas', 'Louisiana', 'Oklahoma', 'Texas'], 'Mountain':['Arizona', 'Colorado', 'Idaho', 'Montana', 'Nevada', 'New Mexico', 'Utah', 'Wyoming'], 'Pacific':['Alaska', 'California', 'Hawaii', 'Oregon', 'Washington']}"
   ]
  },
  {
   "cell_type": "code",
   "execution_count": 7,
   "id": "d3b611a0",
   "metadata": {},
   "outputs": [
    {
     "name": "stdout",
     "output_type": "stream",
     "text": [
      "{'Connecticut': 'New England', 'Maine': 'New England', 'Massachusetts': 'New England', 'New Hampshire': 'New England', 'Rhode Island': 'New England', 'Vermont': 'New England', 'New Jersey': 'Mid_Atlantic', 'New York': 'Mid_Atlantic', 'Pennsylvania': 'Mid_Atlantic', 'Illinois': 'East North Central', 'Indiana': 'East North Central', 'Michigan': 'East North Central', 'Ohio': 'East North Central', 'Wisconsin': 'East North Central', 'Iowa': 'West North Central', 'Kansas': 'West North Central', 'Minnesota': 'West North Central', 'Missouri': 'West North Central', 'Nebraska': 'West North Central', 'North Dakota': 'West North Central', 'South Dakota': 'West North Central', 'Delaware': 'South Atlantic', 'Florida': 'South Atlantic', 'Georgia': 'South Atlantic', 'Maryland': 'South Atlantic', 'North Carolina': 'South Atlantic', 'South Carolina': 'South Atlantic', 'Virginia': 'South Atlantic', 'District of Columbia': 'South Atlantic', 'West Virginia': 'South Atlantic', 'Alabama': 'East South Central', 'Kentucky': 'East South Central', 'Mississippi': 'East South Central', 'Tennessee': 'East South Central', 'Arkansas': 'West South Central', 'Louisiana': 'West South Central', 'Oklahoma': 'West South Central', 'Texas': 'West South Central', 'Arizona': 'Mountain', 'Colorado': 'Mountain', 'Idaho': 'Mountain', 'Montana': 'Mountain', 'Nevada': 'Mountain', 'New Mexico': 'Mountain', 'Utah': 'Mountain', 'Wyoming': 'Mountain', 'Alaska': 'Pacific', 'California': 'Pacific', 'Hawaii': 'Pacific', 'Oregon': 'Pacific', 'Washington': 'Pacific'}\n"
     ]
    }
   ],
   "source": [
    "# Creating the new dictionary by reversing the key and value in the dictionary created above\n",
    "\n",
    "new_us_dict = {}\n",
    "for key,value in us.items():\n",
    "    for ad in value:\n",
    "        new_us_dict[ad] = key \n",
    "print(new_us_dict)"
   ]
  },
  {
   "cell_type": "code",
   "execution_count": 8,
   "id": "8ec1e676",
   "metadata": {},
   "outputs": [
    {
     "data": {
      "text/html": [
       "<div>\n",
       "<style scoped>\n",
       "    .dataframe tbody tr th:only-of-type {\n",
       "        vertical-align: middle;\n",
       "    }\n",
       "\n",
       "    .dataframe tbody tr th {\n",
       "        vertical-align: top;\n",
       "    }\n",
       "\n",
       "    .dataframe thead th {\n",
       "        text-align: right;\n",
       "    }\n",
       "</style>\n",
       "<table border=\"1\" class=\"dataframe\">\n",
       "  <thead>\n",
       "    <tr style=\"text-align: right;\">\n",
       "      <th></th>\n",
       "      <th>Province_State</th>\n",
       "      <th>Country_Region</th>\n",
       "      <th>Last_Update</th>\n",
       "      <th>Lat</th>\n",
       "      <th>Long_</th>\n",
       "      <th>Confirmed</th>\n",
       "      <th>Deaths</th>\n",
       "      <th>Recovered</th>\n",
       "      <th>Active</th>\n",
       "      <th>FIPS</th>\n",
       "      <th>...</th>\n",
       "      <th>Total_Test_Results</th>\n",
       "      <th>People_Hospitalized</th>\n",
       "      <th>Case_Fatality_Ratio</th>\n",
       "      <th>UID</th>\n",
       "      <th>ISO3</th>\n",
       "      <th>Testing_Rate</th>\n",
       "      <th>Hospitalization_Rate</th>\n",
       "      <th>Date</th>\n",
       "      <th>People_Tested</th>\n",
       "      <th>Mortality_Rate</th>\n",
       "    </tr>\n",
       "  </thead>\n",
       "  <tbody>\n",
       "    <tr>\n",
       "      <th>0</th>\n",
       "      <td>Alabama</td>\n",
       "      <td>US</td>\n",
       "      <td>2020-04-12 23:18:15</td>\n",
       "      <td>32.3182</td>\n",
       "      <td>-86.9023</td>\n",
       "      <td>3667</td>\n",
       "      <td>93</td>\n",
       "      <td>NaN</td>\n",
       "      <td>NaN</td>\n",
       "      <td>1.0</td>\n",
       "      <td>...</td>\n",
       "      <td>NaN</td>\n",
       "      <td>437.0</td>\n",
       "      <td>NaN</td>\n",
       "      <td>84000001.0</td>\n",
       "      <td>USA</td>\n",
       "      <td>NaN</td>\n",
       "      <td>12.264945</td>\n",
       "      <td>04-12-2020</td>\n",
       "      <td>62029.0</td>\n",
       "      <td>2.536133</td>\n",
       "    </tr>\n",
       "    <tr>\n",
       "      <th>1</th>\n",
       "      <td>Alaska</td>\n",
       "      <td>US</td>\n",
       "      <td>2020-04-12 23:18:15</td>\n",
       "      <td>61.3707</td>\n",
       "      <td>-152.4044</td>\n",
       "      <td>272</td>\n",
       "      <td>8</td>\n",
       "      <td>66.0</td>\n",
       "      <td>198.0</td>\n",
       "      <td>2.0</td>\n",
       "      <td>...</td>\n",
       "      <td>NaN</td>\n",
       "      <td>31.0</td>\n",
       "      <td>NaN</td>\n",
       "      <td>84000002.0</td>\n",
       "      <td>USA</td>\n",
       "      <td>1344.711576</td>\n",
       "      <td>11.397059</td>\n",
       "      <td>04-12-2020</td>\n",
       "      <td>8038.0</td>\n",
       "      <td>2.941176</td>\n",
       "    </tr>\n",
       "    <tr>\n",
       "      <th>2</th>\n",
       "      <td>American Samoa</td>\n",
       "      <td>US</td>\n",
       "      <td>NaN</td>\n",
       "      <td>-14.2710</td>\n",
       "      <td>-170.1322</td>\n",
       "      <td>0</td>\n",
       "      <td>0</td>\n",
       "      <td>NaN</td>\n",
       "      <td>NaN</td>\n",
       "      <td>60.0</td>\n",
       "      <td>...</td>\n",
       "      <td>NaN</td>\n",
       "      <td>NaN</td>\n",
       "      <td>NaN</td>\n",
       "      <td>16.0</td>\n",
       "      <td>ASM</td>\n",
       "      <td>5.391708</td>\n",
       "      <td>NaN</td>\n",
       "      <td>04-12-2020</td>\n",
       "      <td>3.0</td>\n",
       "      <td>NaN</td>\n",
       "    </tr>\n",
       "    <tr>\n",
       "      <th>3</th>\n",
       "      <td>Arizona</td>\n",
       "      <td>US</td>\n",
       "      <td>2020-04-12 23:18:15</td>\n",
       "      <td>33.7298</td>\n",
       "      <td>-111.4312</td>\n",
       "      <td>3542</td>\n",
       "      <td>115</td>\n",
       "      <td>NaN</td>\n",
       "      <td>NaN</td>\n",
       "      <td>4.0</td>\n",
       "      <td>...</td>\n",
       "      <td>NaN</td>\n",
       "      <td>NaN</td>\n",
       "      <td>NaN</td>\n",
       "      <td>84000004.0</td>\n",
       "      <td>USA</td>\n",
       "      <td>578.522286</td>\n",
       "      <td>NaN</td>\n",
       "      <td>04-12-2020</td>\n",
       "      <td>52289.0</td>\n",
       "      <td>3.246753</td>\n",
       "    </tr>\n",
       "    <tr>\n",
       "      <th>4</th>\n",
       "      <td>Arkansas</td>\n",
       "      <td>US</td>\n",
       "      <td>2020-04-12 23:18:15</td>\n",
       "      <td>34.9697</td>\n",
       "      <td>-92.3731</td>\n",
       "      <td>1280</td>\n",
       "      <td>27</td>\n",
       "      <td>367.0</td>\n",
       "      <td>886.0</td>\n",
       "      <td>5.0</td>\n",
       "      <td>...</td>\n",
       "      <td>NaN</td>\n",
       "      <td>130.0</td>\n",
       "      <td>NaN</td>\n",
       "      <td>84000005.0</td>\n",
       "      <td>USA</td>\n",
       "      <td>761.753354</td>\n",
       "      <td>10.156250</td>\n",
       "      <td>04-12-2020</td>\n",
       "      <td>19722.0</td>\n",
       "      <td>2.109375</td>\n",
       "    </tr>\n",
       "  </tbody>\n",
       "</table>\n",
       "<p>5 rows × 21 columns</p>\n",
       "</div>"
      ],
      "text/plain": [
       "   Province_State Country_Region          Last_Update      Lat     Long_  \\\n",
       "0         Alabama             US  2020-04-12 23:18:15  32.3182  -86.9023   \n",
       "1          Alaska             US  2020-04-12 23:18:15  61.3707 -152.4044   \n",
       "2  American Samoa             US                  NaN -14.2710 -170.1322   \n",
       "3         Arizona             US  2020-04-12 23:18:15  33.7298 -111.4312   \n",
       "4        Arkansas             US  2020-04-12 23:18:15  34.9697  -92.3731   \n",
       "\n",
       "   Confirmed  Deaths  Recovered  Active  FIPS  ...  Total_Test_Results  \\\n",
       "0       3667      93        NaN     NaN   1.0  ...                 NaN   \n",
       "1        272       8       66.0   198.0   2.0  ...                 NaN   \n",
       "2          0       0        NaN     NaN  60.0  ...                 NaN   \n",
       "3       3542     115        NaN     NaN   4.0  ...                 NaN   \n",
       "4       1280      27      367.0   886.0   5.0  ...                 NaN   \n",
       "\n",
       "   People_Hospitalized  Case_Fatality_Ratio         UID  ISO3 Testing_Rate  \\\n",
       "0                437.0                  NaN  84000001.0   USA          NaN   \n",
       "1                 31.0                  NaN  84000002.0   USA  1344.711576   \n",
       "2                  NaN                  NaN        16.0   ASM     5.391708   \n",
       "3                  NaN                  NaN  84000004.0   USA   578.522286   \n",
       "4                130.0                  NaN  84000005.0   USA   761.753354   \n",
       "\n",
       "   Hospitalization_Rate        Date People_Tested  Mortality_Rate  \n",
       "0             12.264945  04-12-2020       62029.0        2.536133  \n",
       "1             11.397059  04-12-2020        8038.0        2.941176  \n",
       "2                   NaN  04-12-2020           3.0             NaN  \n",
       "3                   NaN  04-12-2020       52289.0        3.246753  \n",
       "4             10.156250  04-12-2020       19722.0        2.109375  \n",
       "\n",
       "[5 rows x 21 columns]"
      ]
     },
     "execution_count": 8,
     "metadata": {},
     "output_type": "execute_result"
    }
   ],
   "source": [
    "df_results = pd.DataFrame()\n",
    "for key in list(results.keys()):\n",
    "    new_date = results[key]\n",
    "    new_date['Date'] = key\n",
    "    df_results = pd.concat([df_results,new_date])\n",
    "df_results.head()\n"
   ]
  },
  {
   "cell_type": "code",
   "execution_count": 9,
   "id": "5dcb6630",
   "metadata": {},
   "outputs": [
    {
     "data": {
      "text/plain": [
       "(53784, 21)"
      ]
     },
     "execution_count": 9,
     "metadata": {},
     "output_type": "execute_result"
    }
   ],
   "source": [
    "df_results.shape"
   ]
  },
  {
   "cell_type": "code",
   "execution_count": 10,
   "id": "9ceb5f4f",
   "metadata": {},
   "outputs": [],
   "source": [
    "df_results = df_results.drop(df_results[df_results.Province_State.isin(['Diamond Princess', 'Grand Princess', 'Guam', 'Puerto Rico', 'American Samoa', 'Northern Mariana Islands', 'Recovered', 'Virgin Islands'])].index)"
   ]
  },
  {
   "cell_type": "code",
   "execution_count": 11,
   "id": "8d658975",
   "metadata": {},
   "outputs": [],
   "source": [
    "df_results['Regions'] = df_results.Province_State.map(new_us_dict)"
   ]
  },
  {
   "cell_type": "code",
   "execution_count": 12,
   "id": "9a5b5e98",
   "metadata": {},
   "outputs": [],
   "source": [
    "df_results = df_results.dropna(subset=['Regions'])"
   ]
  },
  {
   "cell_type": "code",
   "execution_count": 13,
   "id": "d492e732",
   "metadata": {},
   "outputs": [],
   "source": [
    "df_results.reset_index(inplace=True)"
   ]
  },
  {
   "cell_type": "code",
   "execution_count": 14,
   "id": "7c7271fe",
   "metadata": {},
   "outputs": [
    {
     "data": {
      "text/html": [
       "<div>\n",
       "<style scoped>\n",
       "    .dataframe tbody tr th:only-of-type {\n",
       "        vertical-align: middle;\n",
       "    }\n",
       "\n",
       "    .dataframe tbody tr th {\n",
       "        vertical-align: top;\n",
       "    }\n",
       "\n",
       "    .dataframe thead th {\n",
       "        text-align: right;\n",
       "    }\n",
       "</style>\n",
       "<table border=\"1\" class=\"dataframe\">\n",
       "  <thead>\n",
       "    <tr style=\"text-align: right;\">\n",
       "      <th></th>\n",
       "      <th>Date</th>\n",
       "      <th>Province_State</th>\n",
       "      <th>Regions</th>\n",
       "      <th>Confirmed</th>\n",
       "      <th>Deaths</th>\n",
       "      <th>People_Hospitalized</th>\n",
       "      <th>Mortality_Rate</th>\n",
       "      <th>Testing_Rate</th>\n",
       "      <th>Hospitalization_Rate</th>\n",
       "    </tr>\n",
       "  </thead>\n",
       "  <tbody>\n",
       "    <tr>\n",
       "      <th>0</th>\n",
       "      <td>04-12-2020</td>\n",
       "      <td>Alabama</td>\n",
       "      <td>East South Central</td>\n",
       "      <td>3667</td>\n",
       "      <td>93</td>\n",
       "      <td>437.0</td>\n",
       "      <td>2.536133</td>\n",
       "      <td>NaN</td>\n",
       "      <td>12.264945</td>\n",
       "    </tr>\n",
       "    <tr>\n",
       "      <th>1</th>\n",
       "      <td>04-12-2020</td>\n",
       "      <td>Alaska</td>\n",
       "      <td>Pacific</td>\n",
       "      <td>272</td>\n",
       "      <td>8</td>\n",
       "      <td>31.0</td>\n",
       "      <td>2.941176</td>\n",
       "      <td>1344.711576</td>\n",
       "      <td>11.397059</td>\n",
       "    </tr>\n",
       "    <tr>\n",
       "      <th>2</th>\n",
       "      <td>04-12-2020</td>\n",
       "      <td>Arizona</td>\n",
       "      <td>Mountain</td>\n",
       "      <td>3542</td>\n",
       "      <td>115</td>\n",
       "      <td>NaN</td>\n",
       "      <td>3.246753</td>\n",
       "      <td>578.522286</td>\n",
       "      <td>NaN</td>\n",
       "    </tr>\n",
       "    <tr>\n",
       "      <th>3</th>\n",
       "      <td>04-12-2020</td>\n",
       "      <td>Arkansas</td>\n",
       "      <td>West South Central</td>\n",
       "      <td>1280</td>\n",
       "      <td>27</td>\n",
       "      <td>130.0</td>\n",
       "      <td>2.109375</td>\n",
       "      <td>761.753354</td>\n",
       "      <td>10.156250</td>\n",
       "    </tr>\n",
       "    <tr>\n",
       "      <th>4</th>\n",
       "      <td>04-12-2020</td>\n",
       "      <td>California</td>\n",
       "      <td>Pacific</td>\n",
       "      <td>22201</td>\n",
       "      <td>632</td>\n",
       "      <td>5234.0</td>\n",
       "      <td>2.842214</td>\n",
       "      <td>485.423869</td>\n",
       "      <td>22.961176</td>\n",
       "    </tr>\n",
       "  </tbody>\n",
       "</table>\n",
       "</div>"
      ],
      "text/plain": [
       "         Date Province_State             Regions  Confirmed  Deaths  \\\n",
       "0  04-12-2020        Alabama  East South Central       3667      93   \n",
       "1  04-12-2020         Alaska             Pacific        272       8   \n",
       "2  04-12-2020        Arizona            Mountain       3542     115   \n",
       "3  04-12-2020       Arkansas  West South Central       1280      27   \n",
       "4  04-12-2020     California             Pacific      22201     632   \n",
       "\n",
       "   People_Hospitalized  Mortality_Rate  Testing_Rate  Hospitalization_Rate  \n",
       "0                437.0        2.536133           NaN             12.264945  \n",
       "1                 31.0        2.941176   1344.711576             11.397059  \n",
       "2                  NaN        3.246753    578.522286                   NaN  \n",
       "3                130.0        2.109375    761.753354             10.156250  \n",
       "4               5234.0        2.842214    485.423869             22.961176  "
      ]
     },
     "execution_count": 14,
     "metadata": {},
     "output_type": "execute_result"
    }
   ],
   "source": [
    "new_results = df_results[['Date', 'Province_State', 'Regions', 'Confirmed', 'Deaths', 'People_Hospitalized', 'Mortality_Rate', 'Testing_Rate', 'Hospitalization_Rate']]\n",
    "new_results.head()"
   ]
  },
  {
   "cell_type": "code",
   "execution_count": 15,
   "id": "90c04a03",
   "metadata": {},
   "outputs": [
    {
     "data": {
      "text/html": [
       "<div>\n",
       "<style scoped>\n",
       "    .dataframe tbody tr th:only-of-type {\n",
       "        vertical-align: middle;\n",
       "    }\n",
       "\n",
       "    .dataframe tbody tr th {\n",
       "        vertical-align: top;\n",
       "    }\n",
       "\n",
       "    .dataframe thead th {\n",
       "        text-align: right;\n",
       "    }\n",
       "</style>\n",
       "<table border=\"1\" class=\"dataframe\">\n",
       "  <thead>\n",
       "    <tr style=\"text-align: right;\">\n",
       "      <th></th>\n",
       "      <th>index</th>\n",
       "      <th>Date</th>\n",
       "      <th>Regions</th>\n",
       "      <th>Confirmed</th>\n",
       "    </tr>\n",
       "  </thead>\n",
       "  <tbody>\n",
       "    <tr>\n",
       "      <th>0</th>\n",
       "      <td>1818</td>\n",
       "      <td>04-12-2020</td>\n",
       "      <td>East North Central</td>\n",
       "      <td>12594.0</td>\n",
       "    </tr>\n",
       "    <tr>\n",
       "      <th>1</th>\n",
       "      <td>1819</td>\n",
       "      <td>04-12-2020</td>\n",
       "      <td>East South Central</td>\n",
       "      <td>3450.0</td>\n",
       "    </tr>\n",
       "    <tr>\n",
       "      <th>2</th>\n",
       "      <td>1820</td>\n",
       "      <td>04-12-2020</td>\n",
       "      <td>Mid_Atlantic</td>\n",
       "      <td>91367.0</td>\n",
       "    </tr>\n",
       "    <tr>\n",
       "      <th>3</th>\n",
       "      <td>1821</td>\n",
       "      <td>04-12-2020</td>\n",
       "      <td>Mountain</td>\n",
       "      <td>2976.0</td>\n",
       "    </tr>\n",
       "    <tr>\n",
       "      <th>4</th>\n",
       "      <td>1822</td>\n",
       "      <td>04-12-2020</td>\n",
       "      <td>New England</td>\n",
       "      <td>8347.0</td>\n",
       "    </tr>\n",
       "  </tbody>\n",
       "</table>\n",
       "</div>"
      ],
      "text/plain": [
       "   index        Date             Regions  Confirmed\n",
       "0   1818  04-12-2020  East North Central    12594.0\n",
       "1   1819  04-12-2020  East South Central     3450.0\n",
       "2   1820  04-12-2020        Mid_Atlantic    91367.0\n",
       "3   1821  04-12-2020            Mountain     2976.0\n",
       "4   1822  04-12-2020         New England     8347.0"
      ]
     },
     "execution_count": 15,
     "metadata": {},
     "output_type": "execute_result"
    }
   ],
   "source": [
    "df_plot = new_results.groupby(['Date', 'Regions'], as_index=False)[['Date', 'Regions', 'Confirmed']].mean().round(0)\n",
    "first_data = df_plot[df_plot.Date.str.endswith('2020')]\n",
    "second_data = df_plot[df_plot.Date.str.endswith('2021')]\n",
    "third_data = df_plot[df_plot.Date.str.endswith('2022')]\n",
    "join_data = [first_data, second_data,third_data]\n",
    "end_data = pd.concat(join_data)\n",
    "end_data.reset_index(inplace=True)\n",
    "end_data.head()\n"
   ]
  },
  {
   "cell_type": "code",
   "execution_count": 16,
   "id": "3986132f",
   "metadata": {},
   "outputs": [
    {
     "name": "stdout",
     "output_type": "stream",
     "text": [
      "['04-12-2020', '10-25-2022', 927]\n"
     ]
    }
   ],
   "source": [
    "dates_x = end_data.Date.unique().tolist()\n",
    "print([dates_x[0],dates_x[-1],len(dates_x)])"
   ]
  },
  {
   "cell_type": "code",
   "execution_count": 17,
   "id": "8bdbb5a3",
   "metadata": {
    "scrolled": true
   },
   "outputs": [],
   "source": [
    "x_indexes = np.arange(len(dates_x))"
   ]
  },
  {
   "cell_type": "code",
   "execution_count": 18,
   "id": "bcbfa670",
   "metadata": {},
   "outputs": [
    {
     "data": {
      "image/png": "[encoded data removed]",
      "text/plain": [
       "<Figure size 432x288 with 1 Axes>"
      ]
     },
     "metadata": {
      "needs_background": "light"
     },
     "output_type": "display_data"
    },
    {
     "data": {
      "text/plain": [
       "'The line graph illustrates changes in the levels of average daily COVID-19 confirmed cases in nine US regions from 2020 to 2022 and is measured in the number of people infected. Overall, it can be seen that, over the period as a whole the levels of confirmed cases rose in all nine regions.\\nMoving to a more detailed analysis, the total average number of confirmed cases  in the Mid-Atlantic region increased dramatically and they overtook all eight regions from the first quarter of 2021. \\nPacific, East North Central, and West South Central are the next regions with highest confirmed cases and followed a similar trend, increasing steadily to approximately 30%. \\nFinally, if you look for patterns you will see that Mountain, New England and West North Central regions follow a similar pattern (increasing gradually over the period) which tells us the mentioned regions had more effective preventive actions.'"
      ]
     },
     "execution_count": 18,
     "metadata": {},
     "output_type": "execute_result"
    }
   ],
   "source": [
    "region_colors = {\"East North Central\":'red', 'East South Central':'green', 'Mid_Atlantic':'blue', 'Mountain':'yellow','New England':'orange', 'Pacific':'purple','South Atlantic':'pink','West North Central':'brown','West South Central':'cyan'}\n",
    "for region in end_data['Regions'].unique().tolist():\n",
    "    plt.plot(x_indexes, end_data.loc[end_data.Regions == region, 'Confirmed'], region_colors[region], label=region)\n",
    "plt.xlabel('Dates')\n",
    "plt.ylabel('Daily Confirmed Cases in April')\n",
    "plt.title('Daily Confirmed Cases in April by Regions')\n",
    "plt.xticks(ticks = x_indexes[::90], labels = dates_x[::90], rotation=45)\n",
    "plt.legend()\n",
    "plt.show()\n",
    "\n",
    "'''The line graph illustrates changes in the levels of average daily COVID-19 confirmed cases in nine US regions from 2020 to 2022 and is measured in the number of people infected. Overall, it can be seen that, over the period as a whole the levels of confirmed cases rose in all nine regions.\n",
    "Moving to a more detailed analysis, the total average number of confirmed cases  in the Mid-Atlantic region increased dramatically and they overtook all eight regions from the first quarter of 2021. \n",
    "Pacific, East North Central, and West South Central are the next regions with highest confirmed cases and followed a similar trend, increasing steadily to approximately 30%. \n",
    "Finally, if you look for patterns you will see that Mountain, New England and West North Central regions follow a similar pattern (increasing gradually over the period) which tells us the mentioned regions had more effective preventive actions.'''"
   ]
  },
  {
   "cell_type": "code",
   "execution_count": null,
   "id": "c9afe157",
   "metadata": {},
   "outputs": [],
   "source": []
  }
 ],
 "metadata": {
  "kernelspec": {
   "display_name": "newenv",
   "language": "python",
   "name": "newenv"
  },
  "language_info": {
   "codemirror_mode": {
    "name": "ipython",
    "version": 3
   },
   "file_extension": ".py",
   "mimetype": "text/x-python",
   "name": "python",
   "nbconvert_exporter": "python",
   "pygments_lexer": "ipython3",
   "version": "3.7.1"
  }
 },
 "nbformat": 4,
 "nbformat_minor": 5
}
